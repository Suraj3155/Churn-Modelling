{
 "cells": [
  {
   "cell_type": "code",
   "execution_count": 1,
   "id": "b4081839",
   "metadata": {},
   "outputs": [],
   "source": [
    "import pandas as pd\n",
    "from sklearn.model_selection import train_test_split\n",
    "from sklearn.preprocessing import StandardScaler, LabelEncoder, OneHotEncoder\n",
    "import pickle"
   ]
  },
  {
   "cell_type": "code",
   "execution_count": 2,
   "metadata": {},
   "outputs": [
    {
     "data": {
      "text/html": [
       "<div>\n",
       "<style scoped>\n",
       "    .dataframe tbody tr th:only-of-type {\n",
       "        vertical-align: middle;\n",
       "    }\n",
       "\n",
       "    .dataframe tbody tr th {\n",
       "        vertical-align: top;\n",
       "    }\n",
       "\n",
       "    .dataframe thead th {\n",
       "        text-align: right;\n",
       "    }\n",
       "</style>\n",
       "<table border=\"1\" class=\"dataframe\">\n",
       "  <thead>\n",
       "    <tr style=\"text-align: right;\">\n",
       "      <th></th>\n",
       "      <th>RowNumber</th>\n",
       "      <th>CustomerId</th>\n",
       "      <th>Surname</th>\n",
       "      <th>CreditScore</th>\n",
       "      <th>Geography</th>\n",
       "      <th>Gender</th>\n",
       "      <th>Age</th>\n",
       "      <th>Tenure</th>\n",
       "      <th>Balance</th>\n",
       "      <th>NumOfProducts</th>\n",
       "      <th>HasCrCard</th>\n",
       "      <th>IsActiveMember</th>\n",
       "      <th>EstimatedSalary</th>\n",
       "      <th>Exited</th>\n",
       "    </tr>\n",
       "  </thead>\n",
       "  <tbody>\n",
       "    <tr>\n",
       "      <th>0</th>\n",
       "      <td>1</td>\n",
       "      <td>15634602</td>\n",
       "      <td>Hargrave</td>\n",
       "      <td>619</td>\n",
       "      <td>France</td>\n",
       "      <td>Female</td>\n",
       "      <td>42</td>\n",
       "      <td>2</td>\n",
       "      <td>0.00</td>\n",
       "      <td>1</td>\n",
       "      <td>1</td>\n",
       "      <td>1</td>\n",
       "      <td>101348.88</td>\n",
       "      <td>1</td>\n",
       "    </tr>\n",
       "    <tr>\n",
       "      <th>1</th>\n",
       "      <td>2</td>\n",
       "      <td>15647311</td>\n",
       "      <td>Hill</td>\n",
       "      <td>608</td>\n",
       "      <td>Spain</td>\n",
       "      <td>Female</td>\n",
       "      <td>41</td>\n",
       "      <td>1</td>\n",
       "      <td>83807.86</td>\n",
       "      <td>1</td>\n",
       "      <td>0</td>\n",
       "      <td>1</td>\n",
       "      <td>112542.58</td>\n",
       "      <td>0</td>\n",
       "    </tr>\n",
       "    <tr>\n",
       "      <th>2</th>\n",
       "      <td>3</td>\n",
       "      <td>15619304</td>\n",
       "      <td>Onio</td>\n",
       "      <td>502</td>\n",
       "      <td>France</td>\n",
       "      <td>Female</td>\n",
       "      <td>42</td>\n",
       "      <td>8</td>\n",
       "      <td>159660.80</td>\n",
       "      <td>3</td>\n",
       "      <td>1</td>\n",
       "      <td>0</td>\n",
       "      <td>113931.57</td>\n",
       "      <td>1</td>\n",
       "    </tr>\n",
       "    <tr>\n",
       "      <th>3</th>\n",
       "      <td>4</td>\n",
       "      <td>15701354</td>\n",
       "      <td>Boni</td>\n",
       "      <td>699</td>\n",
       "      <td>France</td>\n",
       "      <td>Female</td>\n",
       "      <td>39</td>\n",
       "      <td>1</td>\n",
       "      <td>0.00</td>\n",
       "      <td>2</td>\n",
       "      <td>0</td>\n",
       "      <td>0</td>\n",
       "      <td>93826.63</td>\n",
       "      <td>0</td>\n",
       "    </tr>\n",
       "    <tr>\n",
       "      <th>4</th>\n",
       "      <td>5</td>\n",
       "      <td>15737888</td>\n",
       "      <td>Mitchell</td>\n",
       "      <td>850</td>\n",
       "      <td>Spain</td>\n",
       "      <td>Female</td>\n",
       "      <td>43</td>\n",
       "      <td>2</td>\n",
       "      <td>125510.82</td>\n",
       "      <td>1</td>\n",
       "      <td>1</td>\n",
       "      <td>1</td>\n",
       "      <td>79084.10</td>\n",
       "      <td>0</td>\n",
       "    </tr>\n",
       "  </tbody>\n",
       "</table>\n",
       "</div>"
      ],
      "text/plain": [
       "   RowNumber  CustomerId   Surname  CreditScore Geography  Gender  Age  \\\n",
       "0          1    15634602  Hargrave          619    France  Female   42   \n",
       "1          2    15647311      Hill          608     Spain  Female   41   \n",
       "2          3    15619304      Onio          502    France  Female   42   \n",
       "3          4    15701354      Boni          699    France  Female   39   \n",
       "4          5    15737888  Mitchell          850     Spain  Female   43   \n",
       "\n",
       "   Tenure    Balance  NumOfProducts  HasCrCard  IsActiveMember  \\\n",
       "0       2       0.00              1          1               1   \n",
       "1       1   83807.86              1          0               1   \n",
       "2       8  159660.80              3          1               0   \n",
       "3       1       0.00              2          0               0   \n",
       "4       2  125510.82              1          1               1   \n",
       "\n",
       "   EstimatedSalary  Exited  \n",
       "0        101348.88       1  \n",
       "1        112542.58       0  \n",
       "2        113931.57       1  \n",
       "3         93826.63       0  \n",
       "4         79084.10       0  "
      ]
     },
     "execution_count": 2,
     "metadata": {},
     "output_type": "execute_result"
    }
   ],
   "source": [
    "data = pd.read_csv('Churn_Modelling.csv')\n",
    "data.head()"
   ]
  },
  {
   "cell_type": "code",
   "execution_count": 3,
   "metadata": {},
   "outputs": [],
   "source": [
    "##preprocessing the data \n",
    "data = data.drop(['RowNumber','CustomerId','Surname'],axis=1)"
   ]
  },
  {
   "cell_type": "code",
   "execution_count": 4,
   "metadata": {},
   "outputs": [],
   "source": [
    "##Encode categorical variable\n",
    "label_encoder_gender = LabelEncoder()\n",
    "data['Gender'] = label_encoder_gender.fit_transform(data['Gender'])"
   ]
  },
  {
   "cell_type": "code",
   "execution_count": 5,
   "metadata": {},
   "outputs": [
    {
     "data": {
      "text/html": [
       "<div>\n",
       "<style scoped>\n",
       "    .dataframe tbody tr th:only-of-type {\n",
       "        vertical-align: middle;\n",
       "    }\n",
       "\n",
       "    .dataframe tbody tr th {\n",
       "        vertical-align: top;\n",
       "    }\n",
       "\n",
       "    .dataframe thead th {\n",
       "        text-align: right;\n",
       "    }\n",
       "</style>\n",
       "<table border=\"1\" class=\"dataframe\">\n",
       "  <thead>\n",
       "    <tr style=\"text-align: right;\">\n",
       "      <th></th>\n",
       "      <th>Geography_France</th>\n",
       "      <th>Geography_Germany</th>\n",
       "      <th>Geography_Spain</th>\n",
       "    </tr>\n",
       "  </thead>\n",
       "  <tbody>\n",
       "    <tr>\n",
       "      <th>0</th>\n",
       "      <td>1.0</td>\n",
       "      <td>0.0</td>\n",
       "      <td>0.0</td>\n",
       "    </tr>\n",
       "    <tr>\n",
       "      <th>1</th>\n",
       "      <td>0.0</td>\n",
       "      <td>0.0</td>\n",
       "      <td>1.0</td>\n",
       "    </tr>\n",
       "    <tr>\n",
       "      <th>2</th>\n",
       "      <td>1.0</td>\n",
       "      <td>0.0</td>\n",
       "      <td>0.0</td>\n",
       "    </tr>\n",
       "    <tr>\n",
       "      <th>3</th>\n",
       "      <td>1.0</td>\n",
       "      <td>0.0</td>\n",
       "      <td>0.0</td>\n",
       "    </tr>\n",
       "    <tr>\n",
       "      <th>4</th>\n",
       "      <td>0.0</td>\n",
       "      <td>0.0</td>\n",
       "      <td>1.0</td>\n",
       "    </tr>\n",
       "    <tr>\n",
       "      <th>...</th>\n",
       "      <td>...</td>\n",
       "      <td>...</td>\n",
       "      <td>...</td>\n",
       "    </tr>\n",
       "    <tr>\n",
       "      <th>9995</th>\n",
       "      <td>1.0</td>\n",
       "      <td>0.0</td>\n",
       "      <td>0.0</td>\n",
       "    </tr>\n",
       "    <tr>\n",
       "      <th>9996</th>\n",
       "      <td>1.0</td>\n",
       "      <td>0.0</td>\n",
       "      <td>0.0</td>\n",
       "    </tr>\n",
       "    <tr>\n",
       "      <th>9997</th>\n",
       "      <td>1.0</td>\n",
       "      <td>0.0</td>\n",
       "      <td>0.0</td>\n",
       "    </tr>\n",
       "    <tr>\n",
       "      <th>9998</th>\n",
       "      <td>0.0</td>\n",
       "      <td>1.0</td>\n",
       "      <td>0.0</td>\n",
       "    </tr>\n",
       "    <tr>\n",
       "      <th>9999</th>\n",
       "      <td>1.0</td>\n",
       "      <td>0.0</td>\n",
       "      <td>0.0</td>\n",
       "    </tr>\n",
       "  </tbody>\n",
       "</table>\n",
       "<p>10000 rows × 3 columns</p>\n",
       "</div>"
      ],
      "text/plain": [
       "      Geography_France  Geography_Germany  Geography_Spain\n",
       "0                  1.0                0.0              0.0\n",
       "1                  0.0                0.0              1.0\n",
       "2                  1.0                0.0              0.0\n",
       "3                  1.0                0.0              0.0\n",
       "4                  0.0                0.0              1.0\n",
       "...                ...                ...              ...\n",
       "9995               1.0                0.0              0.0\n",
       "9996               1.0                0.0              0.0\n",
       "9997               1.0                0.0              0.0\n",
       "9998               0.0                1.0              0.0\n",
       "9999               1.0                0.0              0.0\n",
       "\n",
       "[10000 rows x 3 columns]"
      ]
     },
     "execution_count": 5,
     "metadata": {},
     "output_type": "execute_result"
    }
   ],
   "source": [
    "##oneHot encoder 'Geography'\n",
    "onehot_encoder_geo = OneHotEncoder(handle_unknown='ignore')\n",
    "geo_encoded = onehot_encoder_geo.fit_transform(data[['Geography']]).toarray()\n",
    "geo__encoded_df = pd.DataFrame(geo_encoded, columns=onehot_encoder_geo.get_feature_names_out(['Geography']))\n",
    "geo__encoded_df"
   ]
  },
  {
   "cell_type": "code",
   "execution_count": 7,
   "metadata": {},
   "outputs": [],
   "source": [
    "##combine one-hot encoded columns with original data\n",
    "data = pd.concat([data.drop('Geography',axis=1), geo__encoded_df], axis=1)"
   ]
  },
  {
   "cell_type": "code",
   "execution_count": 8,
   "metadata": {},
   "outputs": [
    {
     "data": {
      "text/html": [
       "<div>\n",
       "<style scoped>\n",
       "    .dataframe tbody tr th:only-of-type {\n",
       "        vertical-align: middle;\n",
       "    }\n",
       "\n",
       "    .dataframe tbody tr th {\n",
       "        vertical-align: top;\n",
       "    }\n",
       "\n",
       "    .dataframe thead th {\n",
       "        text-align: right;\n",
       "    }\n",
       "</style>\n",
       "<table border=\"1\" class=\"dataframe\">\n",
       "  <thead>\n",
       "    <tr style=\"text-align: right;\">\n",
       "      <th></th>\n",
       "      <th>CreditScore</th>\n",
       "      <th>Gender</th>\n",
       "      <th>Age</th>\n",
       "      <th>Tenure</th>\n",
       "      <th>Balance</th>\n",
       "      <th>NumOfProducts</th>\n",
       "      <th>HasCrCard</th>\n",
       "      <th>IsActiveMember</th>\n",
       "      <th>EstimatedSalary</th>\n",
       "      <th>Exited</th>\n",
       "      <th>Geography_France</th>\n",
       "      <th>Geography_Germany</th>\n",
       "      <th>Geography_Spain</th>\n",
       "    </tr>\n",
       "  </thead>\n",
       "  <tbody>\n",
       "    <tr>\n",
       "      <th>0</th>\n",
       "      <td>619</td>\n",
       "      <td>0</td>\n",
       "      <td>42</td>\n",
       "      <td>2</td>\n",
       "      <td>0.00</td>\n",
       "      <td>1</td>\n",
       "      <td>1</td>\n",
       "      <td>1</td>\n",
       "      <td>101348.88</td>\n",
       "      <td>1</td>\n",
       "      <td>1.0</td>\n",
       "      <td>0.0</td>\n",
       "      <td>0.0</td>\n",
       "    </tr>\n",
       "    <tr>\n",
       "      <th>1</th>\n",
       "      <td>608</td>\n",
       "      <td>0</td>\n",
       "      <td>41</td>\n",
       "      <td>1</td>\n",
       "      <td>83807.86</td>\n",
       "      <td>1</td>\n",
       "      <td>0</td>\n",
       "      <td>1</td>\n",
       "      <td>112542.58</td>\n",
       "      <td>0</td>\n",
       "      <td>0.0</td>\n",
       "      <td>0.0</td>\n",
       "      <td>1.0</td>\n",
       "    </tr>\n",
       "    <tr>\n",
       "      <th>2</th>\n",
       "      <td>502</td>\n",
       "      <td>0</td>\n",
       "      <td>42</td>\n",
       "      <td>8</td>\n",
       "      <td>159660.80</td>\n",
       "      <td>3</td>\n",
       "      <td>1</td>\n",
       "      <td>0</td>\n",
       "      <td>113931.57</td>\n",
       "      <td>1</td>\n",
       "      <td>1.0</td>\n",
       "      <td>0.0</td>\n",
       "      <td>0.0</td>\n",
       "    </tr>\n",
       "    <tr>\n",
       "      <th>3</th>\n",
       "      <td>699</td>\n",
       "      <td>0</td>\n",
       "      <td>39</td>\n",
       "      <td>1</td>\n",
       "      <td>0.00</td>\n",
       "      <td>2</td>\n",
       "      <td>0</td>\n",
       "      <td>0</td>\n",
       "      <td>93826.63</td>\n",
       "      <td>0</td>\n",
       "      <td>1.0</td>\n",
       "      <td>0.0</td>\n",
       "      <td>0.0</td>\n",
       "    </tr>\n",
       "    <tr>\n",
       "      <th>4</th>\n",
       "      <td>850</td>\n",
       "      <td>0</td>\n",
       "      <td>43</td>\n",
       "      <td>2</td>\n",
       "      <td>125510.82</td>\n",
       "      <td>1</td>\n",
       "      <td>1</td>\n",
       "      <td>1</td>\n",
       "      <td>79084.10</td>\n",
       "      <td>0</td>\n",
       "      <td>0.0</td>\n",
       "      <td>0.0</td>\n",
       "      <td>1.0</td>\n",
       "    </tr>\n",
       "  </tbody>\n",
       "</table>\n",
       "</div>"
      ],
      "text/plain": [
       "   CreditScore  Gender  Age  Tenure    Balance  NumOfProducts  HasCrCard  \\\n",
       "0          619       0   42       2       0.00              1          1   \n",
       "1          608       0   41       1   83807.86              1          0   \n",
       "2          502       0   42       8  159660.80              3          1   \n",
       "3          699       0   39       1       0.00              2          0   \n",
       "4          850       0   43       2  125510.82              1          1   \n",
       "\n",
       "   IsActiveMember  EstimatedSalary  Exited  Geography_France  \\\n",
       "0               1        101348.88       1               1.0   \n",
       "1               1        112542.58       0               0.0   \n",
       "2               0        113931.57       1               1.0   \n",
       "3               0         93826.63       0               1.0   \n",
       "4               1         79084.10       0               0.0   \n",
       "\n",
       "   Geography_Germany  Geography_Spain  \n",
       "0                0.0              0.0  \n",
       "1                0.0              1.0  \n",
       "2                0.0              0.0  \n",
       "3                0.0              0.0  \n",
       "4                0.0              1.0  "
      ]
     },
     "execution_count": 8,
     "metadata": {},
     "output_type": "execute_result"
    }
   ],
   "source": [
    "data.head()"
   ]
  },
  {
   "cell_type": "code",
   "execution_count": 9,
   "metadata": {},
   "outputs": [],
   "source": [
    "##split the data into features and target\n",
    "X =data.drop('EstimatedSalary',axis=1)\n",
    "y = data['EstimatedSalary']"
   ]
  },
  {
   "cell_type": "code",
   "execution_count": 10,
   "id": "4e4e30e6",
   "metadata": {},
   "outputs": [],
   "source": [
    "##split the data in training and testing sets\n",
    "X_train,X_test,y_train,y_test = train_test_split(X,y,test_size=0.2, random_state=42)"
   ]
  },
  {
   "cell_type": "code",
   "execution_count": 11,
   "id": "85e50737",
   "metadata": {},
   "outputs": [],
   "source": [
    "##scale these feature\n",
    "scaler = StandardScaler()\n",
    "X_train = scaler.fit_transform(X_train)\n",
    "X_test = scaler.transform(X_test)"
   ]
  },
  {
   "cell_type": "code",
   "execution_count": 12,
   "metadata": {},
   "outputs": [],
   "source": [
    "#save the encoders and scalers for later use\n",
    "with open('label_encoder_gender.pkl','wb') as file:\n",
    "    pickle.dump(label_encoder_gender, file)\n",
    "\n",
    "with open('onehot_encoder_geo.pkl','wb') as file:\n",
    "    pickle.dump(onehot_encoder_geo, file)\n",
    "\n",
    "with open('scaler.pkl', 'wb') as file:\n",
    "    pickle.dump(scaler, file)"
   ]
  },
  {
   "cell_type": "markdown",
   "id": "165ffd68",
   "metadata": {},
   "source": [
    "##Train the ANN with Regression  problem statement"
   ]
  },
  {
   "cell_type": "code",
   "execution_count": 13,
   "metadata": {},
   "outputs": [],
   "source": [
    "import tensorflow as tf\n",
    "from tensorflow.keras.models import Sequential\n",
    "from tensorflow.keras.layers import Dense"
   ]
  },
  {
   "cell_type": "code",
   "execution_count": 14,
   "metadata": {},
   "outputs": [
    {
     "name": "stdout",
     "output_type": "stream",
     "text": [
      "WARNING:tensorflow:From c:\\ChurnModelling\\venv\\Lib\\site-packages\\keras\\src\\backend.py:873: The name tf.get_default_graph is deprecated. Please use tf.compat.v1.get_default_graph instead.\n",
      "\n",
      "WARNING:tensorflow:From c:\\ChurnModelling\\venv\\Lib\\site-packages\\keras\\src\\optimizers\\__init__.py:309: The name tf.train.Optimizer is deprecated. Please use tf.compat.v1.train.Optimizer instead.\n",
      "\n",
      "Model: \"sequential\"\n",
      "_________________________________________________________________\n",
      " Layer (type)                Output Shape              Param #   \n",
      "=================================================================\n",
      " dense (Dense)               (None, 64)                832       \n",
      "                                                                 \n",
      " dense_1 (Dense)             (None, 32)                2080      \n",
      "                                                                 \n",
      " dense_2 (Dense)             (None, 1)                 33        \n",
      "                                                                 \n",
      "=================================================================\n",
      "Total params: 2945 (11.50 KB)\n",
      "Trainable params: 2945 (11.50 KB)\n",
      "Non-trainable params: 0 (0.00 Byte)\n",
      "_________________________________________________________________\n"
     ]
    }
   ],
   "source": [
    "#Build the model\n",
    "model = Sequential([\n",
    "    Dense(64, activation='relu', input_shape=(X_train.shape[1],)), #64 neurons\n",
    "    Dense(32, activation='relu'),#32 neurons\n",
    "    Dense(1) ##if we not apply acitvation function then by default the linear activationn function is applied the linear activation funciton is for regresssion\n",
    "])\n",
    "\n",
    "##compile the model\n",
    "model.compile(optimizer='adam', loss='mean_absolute_error',metrics=['mae'])\n",
    "\n",
    "model.summary()"
   ]
  },
  {
   "cell_type": "code",
   "execution_count": 15,
   "metadata": {},
   "outputs": [],
   "source": [
    "from tensorflow.keras.callbacks import EarlyStopping, TensorBoard\n",
    "import datetime\n",
    "\n",
    "##Setup TensorBoard\n",
    "log_dir = \"regressionlogs/fit/\" + datetime.datetime.now().strftime(\"%Y%m%d-%H%M%S\")\n",
    "tensorboard_callback = TensorBoard(log_dir = log_dir, histogram_freq=1)"
   ]
  },
  {
   "cell_type": "code",
   "execution_count": 18,
   "metadata": {},
   "outputs": [],
   "source": [
    "##setup Early Stopping\n",
    "early_stopping_callback = EarlyStopping(monitor='val_loss', patience=10, restore_best_weights=True)\n"
   ]
  },
  {
   "cell_type": "code",
   "execution_count": 19,
   "metadata": {},
   "outputs": [
    {
     "name": "stdout",
     "output_type": "stream",
     "text": [
      "Epoch 1/100\n",
      "WARNING:tensorflow:From c:\\ChurnModelling\\venv\\Lib\\site-packages\\keras\\src\\utils\\tf_utils.py:492: The name tf.ragged.RaggedTensorValue is deprecated. Please use tf.compat.v1.ragged.RaggedTensorValue instead.\n",
      "\n",
      "WARNING:tensorflow:From c:\\ChurnModelling\\venv\\Lib\\site-packages\\keras\\src\\engine\\base_layer_utils.py:384: The name tf.executing_eagerly_outside_functions is deprecated. Please use tf.compat.v1.executing_eagerly_outside_functions instead.\n",
      "\n",
      "250/250 [==============================] - 2s 4ms/step - loss: 100372.1328 - mae: 100372.1328 - val_loss: 98501.7266 - val_mae: 98501.7266\n",
      "Epoch 2/100\n",
      "250/250 [==============================] - 1s 3ms/step - loss: 99611.6797 - mae: 99611.6797 - val_loss: 96992.7500 - val_mae: 96992.7500\n",
      "Epoch 3/100\n",
      "250/250 [==============================] - 1s 3ms/step - loss: 97012.0156 - mae: 97012.0156 - val_loss: 93191.2734 - val_mae: 93191.2734\n",
      "Epoch 4/100\n",
      "250/250 [==============================] - 1s 2ms/step - loss: 91912.0781 - mae: 91912.0781 - val_loss: 86814.4531 - val_mae: 86814.4531\n",
      "Epoch 5/100\n",
      "250/250 [==============================] - 1s 3ms/step - loss: 84463.0391 - mae: 84463.0391 - val_loss: 78557.8281 - val_mae: 78557.8281\n",
      "Epoch 6/100\n",
      "250/250 [==============================] - 1s 3ms/step - loss: 75625.8281 - mae: 75625.8281 - val_loss: 69826.7578 - val_mae: 69826.7578\n",
      "Epoch 7/100\n",
      "250/250 [==============================] - 1s 3ms/step - loss: 66868.4219 - mae: 66868.4219 - val_loss: 62110.0977 - val_mae: 62110.0977\n",
      "Epoch 8/100\n",
      "250/250 [==============================] - 1s 3ms/step - loss: 59679.7969 - mae: 59679.7969 - val_loss: 56361.6875 - val_mae: 56361.6875\n",
      "Epoch 9/100\n",
      "250/250 [==============================] - 1s 3ms/step - loss: 54834.7344 - mae: 54834.7344 - val_loss: 52971.3477 - val_mae: 52971.3477\n",
      "Epoch 10/100\n",
      "250/250 [==============================] - 1s 3ms/step - loss: 52188.1133 - mae: 52188.1133 - val_loss: 51380.5000 - val_mae: 51380.5000\n",
      "Epoch 11/100\n",
      "250/250 [==============================] - 1s 3ms/step - loss: 50938.3398 - mae: 50938.3398 - val_loss: 50813.7578 - val_mae: 50813.7578\n",
      "Epoch 12/100\n",
      "250/250 [==============================] - 1s 3ms/step - loss: 50447.4219 - mae: 50447.4219 - val_loss: 50663.5781 - val_mae: 50663.5781\n",
      "Epoch 13/100\n",
      "250/250 [==============================] - 1s 3ms/step - loss: 50257.2969 - mae: 50257.2969 - val_loss: 50595.4297 - val_mae: 50595.4297\n",
      "Epoch 14/100\n",
      "250/250 [==============================] - 1s 3ms/step - loss: 50167.2266 - mae: 50167.2266 - val_loss: 50561.4570 - val_mae: 50561.4570\n",
      "Epoch 15/100\n",
      "250/250 [==============================] - 1s 3ms/step - loss: 50108.6836 - mae: 50108.6836 - val_loss: 50524.4336 - val_mae: 50524.4336\n",
      "Epoch 16/100\n",
      "250/250 [==============================] - 1s 3ms/step - loss: 50057.8281 - mae: 50057.8281 - val_loss: 50503.5469 - val_mae: 50503.5469\n",
      "Epoch 17/100\n",
      "250/250 [==============================] - 1s 3ms/step - loss: 50016.0039 - mae: 50016.0039 - val_loss: 50491.1641 - val_mae: 50491.1641\n",
      "Epoch 18/100\n",
      "250/250 [==============================] - 1s 3ms/step - loss: 49973.6914 - mae: 49973.6914 - val_loss: 50459.7422 - val_mae: 50459.7422\n",
      "Epoch 19/100\n",
      "250/250 [==============================] - 1s 3ms/step - loss: 49940.5898 - mae: 49940.5898 - val_loss: 50449.5781 - val_mae: 50449.5781\n",
      "Epoch 20/100\n",
      "250/250 [==============================] - 1s 3ms/step - loss: 49908.7109 - mae: 49908.7109 - val_loss: 50427.9531 - val_mae: 50427.9531\n",
      "Epoch 21/100\n",
      "250/250 [==============================] - 1s 3ms/step - loss: 49879.1328 - mae: 49879.1328 - val_loss: 50420.3047 - val_mae: 50420.3047\n",
      "Epoch 22/100\n",
      "250/250 [==============================] - 1s 3ms/step - loss: 49853.4258 - mae: 49853.4258 - val_loss: 50404.1484 - val_mae: 50404.1484\n",
      "Epoch 23/100\n",
      "250/250 [==============================] - 1s 3ms/step - loss: 49832.4336 - mae: 49832.4336 - val_loss: 50398.2734 - val_mae: 50398.2734\n",
      "Epoch 24/100\n",
      "250/250 [==============================] - 1s 3ms/step - loss: 49810.2109 - mae: 49810.2109 - val_loss: 50380.4648 - val_mae: 50380.4648\n",
      "Epoch 25/100\n",
      "250/250 [==============================] - 1s 2ms/step - loss: 49791.1875 - mae: 49791.1875 - val_loss: 50380.0625 - val_mae: 50380.0625\n",
      "Epoch 26/100\n",
      "250/250 [==============================] - 1s 3ms/step - loss: 49771.1445 - mae: 49771.1445 - val_loss: 50368.8008 - val_mae: 50368.8008\n",
      "Epoch 27/100\n",
      "250/250 [==============================] - 1s 3ms/step - loss: 49751.3711 - mae: 49751.3711 - val_loss: 50356.3320 - val_mae: 50356.3320\n",
      "Epoch 28/100\n",
      "250/250 [==============================] - 1s 3ms/step - loss: 49738.3203 - mae: 49738.3203 - val_loss: 50341.2773 - val_mae: 50341.2773\n",
      "Epoch 29/100\n",
      "250/250 [==============================] - 1s 2ms/step - loss: 49716.7852 - mae: 49716.7852 - val_loss: 50343.6875 - val_mae: 50343.6875\n",
      "Epoch 30/100\n",
      "250/250 [==============================] - 1s 2ms/step - loss: 49703.4414 - mae: 49703.4414 - val_loss: 50334.2852 - val_mae: 50334.2852\n",
      "Epoch 31/100\n",
      "250/250 [==============================] - 1s 2ms/step - loss: 49688.1680 - mae: 49688.1680 - val_loss: 50333.8359 - val_mae: 50333.8359\n",
      "Epoch 32/100\n",
      "250/250 [==============================] - 1s 3ms/step - loss: 49675.5586 - mae: 49675.5586 - val_loss: 50322.9922 - val_mae: 50322.9922\n",
      "Epoch 33/100\n",
      "250/250 [==============================] - 1s 3ms/step - loss: 49660.5469 - mae: 49660.5469 - val_loss: 50322.0586 - val_mae: 50322.0586\n",
      "Epoch 34/100\n",
      "250/250 [==============================] - 1s 3ms/step - loss: 49644.7812 - mae: 49644.7812 - val_loss: 50314.1641 - val_mae: 50314.1641\n",
      "Epoch 35/100\n",
      "250/250 [==============================] - 1s 2ms/step - loss: 49634.8320 - mae: 49634.8320 - val_loss: 50314.4141 - val_mae: 50314.4141\n",
      "Epoch 36/100\n",
      "250/250 [==============================] - 1s 2ms/step - loss: 49625.4141 - mae: 49625.4141 - val_loss: 50304.6289 - val_mae: 50304.6289\n",
      "Epoch 37/100\n",
      "250/250 [==============================] - 1s 2ms/step - loss: 49614.3633 - mae: 49614.3633 - val_loss: 50303.3945 - val_mae: 50303.3945\n",
      "Epoch 38/100\n",
      "250/250 [==============================] - 1s 2ms/step - loss: 49598.6484 - mae: 49598.6484 - val_loss: 50295.5078 - val_mae: 50295.5078\n",
      "Epoch 39/100\n",
      "250/250 [==============================] - 1s 2ms/step - loss: 49591.4805 - mae: 49591.4805 - val_loss: 50290.0156 - val_mae: 50290.0156\n",
      "Epoch 40/100\n",
      "250/250 [==============================] - 1s 2ms/step - loss: 49579.3281 - mae: 49579.3281 - val_loss: 50304.8477 - val_mae: 50304.8477\n",
      "Epoch 41/100\n",
      "250/250 [==============================] - 1s 3ms/step - loss: 49570.9922 - mae: 49570.9922 - val_loss: 50290.0781 - val_mae: 50290.0781\n",
      "Epoch 42/100\n",
      "250/250 [==============================] - 1s 3ms/step - loss: 49561.3008 - mae: 49561.3008 - val_loss: 50296.2148 - val_mae: 50296.2148\n",
      "Epoch 43/100\n",
      "250/250 [==============================] - 1s 2ms/step - loss: 49553.8398 - mae: 49553.8398 - val_loss: 50290.1328 - val_mae: 50290.1328\n",
      "Epoch 44/100\n",
      "250/250 [==============================] - 1s 3ms/step - loss: 49544.4297 - mae: 49544.4297 - val_loss: 50287.5234 - val_mae: 50287.5234\n",
      "Epoch 45/100\n",
      "250/250 [==============================] - 1s 3ms/step - loss: 49539.6875 - mae: 49539.6875 - val_loss: 50287.1250 - val_mae: 50287.1250\n",
      "Epoch 46/100\n",
      "250/250 [==============================] - 1s 2ms/step - loss: 49529.3945 - mae: 49529.3945 - val_loss: 50278.6875 - val_mae: 50278.6875\n",
      "Epoch 47/100\n",
      "250/250 [==============================] - 1s 3ms/step - loss: 49522.3594 - mae: 49522.3594 - val_loss: 50287.6523 - val_mae: 50287.6523\n",
      "Epoch 48/100\n",
      "250/250 [==============================] - 1s 2ms/step - loss: 49515.9336 - mae: 49515.9336 - val_loss: 50284.6758 - val_mae: 50284.6758\n",
      "Epoch 49/100\n",
      "250/250 [==============================] - 1s 2ms/step - loss: 49508.1133 - mae: 49508.1133 - val_loss: 50280.6992 - val_mae: 50280.6992\n",
      "Epoch 50/100\n",
      "250/250 [==============================] - 1s 3ms/step - loss: 49501.0234 - mae: 49501.0234 - val_loss: 50282.5664 - val_mae: 50282.5664\n",
      "Epoch 51/100\n",
      "250/250 [==============================] - 1s 2ms/step - loss: 49495.5977 - mae: 49495.5977 - val_loss: 50291.3477 - val_mae: 50291.3477\n",
      "Epoch 52/100\n",
      "250/250 [==============================] - 1s 2ms/step - loss: 49489.4258 - mae: 49489.4258 - val_loss: 50279.1914 - val_mae: 50279.1914\n",
      "Epoch 53/100\n",
      "250/250 [==============================] - 1s 2ms/step - loss: 49486.4570 - mae: 49486.4570 - val_loss: 50277.5156 - val_mae: 50277.5156\n",
      "Epoch 54/100\n",
      "250/250 [==============================] - 1s 2ms/step - loss: 49478.0625 - mae: 49478.0625 - val_loss: 50291.8594 - val_mae: 50291.8594\n",
      "Epoch 55/100\n",
      "250/250 [==============================] - 1s 2ms/step - loss: 49472.1133 - mae: 49472.1133 - val_loss: 50292.8359 - val_mae: 50292.8359\n",
      "Epoch 56/100\n",
      "250/250 [==============================] - 1s 2ms/step - loss: 49466.5156 - mae: 49466.5156 - val_loss: 50298.5273 - val_mae: 50298.5273\n",
      "Epoch 57/100\n",
      "250/250 [==============================] - 1s 2ms/step - loss: 49459.5664 - mae: 49459.5664 - val_loss: 50291.9961 - val_mae: 50291.9961\n",
      "Epoch 58/100\n",
      "250/250 [==============================] - 1s 2ms/step - loss: 49452.9375 - mae: 49452.9375 - val_loss: 50302.6836 - val_mae: 50302.6836\n",
      "Epoch 59/100\n",
      "250/250 [==============================] - 1s 2ms/step - loss: 49448.9102 - mae: 49448.9102 - val_loss: 50303.3164 - val_mae: 50303.3164\n",
      "Epoch 60/100\n",
      "250/250 [==============================] - 1s 3ms/step - loss: 49441.8281 - mae: 49441.8281 - val_loss: 50299.5586 - val_mae: 50299.5586\n",
      "Epoch 61/100\n",
      "250/250 [==============================] - 1s 2ms/step - loss: 49437.7422 - mae: 49437.7422 - val_loss: 50300.1992 - val_mae: 50300.1992\n",
      "Epoch 62/100\n",
      "250/250 [==============================] - 1s 3ms/step - loss: 49435.8789 - mae: 49435.8789 - val_loss: 50300.6758 - val_mae: 50300.6758\n",
      "Epoch 63/100\n",
      "250/250 [==============================] - 1s 3ms/step - loss: 49426.5273 - mae: 49426.5273 - val_loss: 50305.7461 - val_mae: 50305.7461\n"
     ]
    }
   ],
   "source": [
    "##Train the model\n",
    "history = model.fit(\n",
    "    X_train, y_train,\n",
    "    validation_data = (X_test, y_test),\n",
    "    epochs=100,\n",
    "    callbacks=[early_stopping_callback,tensorboard_callback]\n",
    ")"
   ]
  },
  {
   "cell_type": "code",
   "execution_count": 20,
   "metadata": {},
   "outputs": [],
   "source": [
    "%load_ext tensorboard"
   ]
  },
  {
   "cell_type": "code",
   "execution_count": 23,
   "metadata": {},
   "outputs": [
    {
     "data": {
      "text/plain": [
       "Reusing TensorBoard on port 6006 (pid 22380), started 0:00:09 ago. (Use '!kill 22380' to kill it.)"
      ]
     },
     "metadata": {},
     "output_type": "display_data"
    },
    {
     "data": {
      "text/html": [
       "\n",
       "      <iframe id=\"tensorboard-frame-8185e1967d4ba6cf\" width=\"100%\" height=\"800\" frameborder=\"0\">\n",
       "      </iframe>\n",
       "      <script>\n",
       "        (function() {\n",
       "          const frame = document.getElementById(\"tensorboard-frame-8185e1967d4ba6cf\");\n",
       "          const url = new URL(\"http://localhost\");\n",
       "          const port = 6006;\n",
       "          if (port) {\n",
       "            url.port = port;\n",
       "          }\n",
       "          frame.src = url;\n",
       "        })();\n",
       "      </script>\n",
       "    "
      ],
      "text/plain": [
       "<IPython.core.display.HTML object>"
      ]
     },
     "metadata": {},
     "output_type": "display_data"
    }
   ],
   "source": [
    "%tensorboard --logdir regressionlogs/fit"
   ]
  },
  {
   "cell_type": "code",
   "execution_count": 24,
   "metadata": {},
   "outputs": [
    {
     "name": "stdout",
     "output_type": "stream",
     "text": [
      "63/63 [==============================] - 0s 2ms/step - loss: 50277.5156 - mae: 50277.5156\n",
      "Test MAE: 50277.515625\n"
     ]
    }
   ],
   "source": [
    "##evaluate model on the test data\n",
    "test_loss,test_mae = model.evaluate(X_test,y_test)\n",
    "print(f'Test MAE: {test_mae}')"
   ]
  },
  {
   "cell_type": "code",
   "execution_count": 25,
   "metadata": {},
   "outputs": [
    {
     "name": "stderr",
     "output_type": "stream",
     "text": [
      "c:\\ChurnModelling\\venv\\Lib\\site-packages\\keras\\src\\engine\\training.py:3103: UserWarning: You are saving your model as an HDF5 file via `model.save()`. This file format is considered legacy. We recommend using instead the native Keras format, e.g. `model.save('my_model.keras')`.\n",
      "  saving_api.save_model(\n"
     ]
    }
   ],
   "source": [
    "model.save('regression_model.h5')"
   ]
  },
  {
   "cell_type": "code",
   "execution_count": null,
   "metadata": {},
   "outputs": [],
   "source": []
  },
  {
   "cell_type": "code",
   "execution_count": null,
   "id": "01d026c4",
   "metadata": {},
   "outputs": [],
   "source": []
  },
  {
   "cell_type": "code",
   "execution_count": null,
   "metadata": {},
   "outputs": [],
   "source": []
  },
  {
   "cell_type": "code",
   "execution_count": null,
   "metadata": {},
   "outputs": [],
   "source": []
  },
  {
   "cell_type": "code",
   "execution_count": null,
   "metadata": {},
   "outputs": [],
   "source": []
  },
  {
   "cell_type": "code",
   "execution_count": null,
   "metadata": {},
   "outputs": [],
   "source": []
  },
  {
   "cell_type": "code",
   "execution_count": null,
   "metadata": {},
   "outputs": [],
   "source": []
  },
  {
   "cell_type": "code",
   "execution_count": null,
   "metadata": {},
   "outputs": [],
   "source": []
  },
  {
   "cell_type": "code",
   "execution_count": null,
   "metadata": {},
   "outputs": [],
   "source": []
  },
  {
   "cell_type": "code",
   "execution_count": null,
   "metadata": {},
   "outputs": [],
   "source": []
  },
  {
   "cell_type": "code",
   "execution_count": null,
   "metadata": {},
   "outputs": [],
   "source": []
  },
  {
   "cell_type": "code",
   "execution_count": null,
   "metadata": {},
   "outputs": [],
   "source": []
  },
  {
   "cell_type": "code",
   "execution_count": null,
   "metadata": {},
   "outputs": [],
   "source": []
  },
  {
   "cell_type": "code",
   "execution_count": null,
   "metadata": {},
   "outputs": [],
   "source": []
  },
  {
   "cell_type": "code",
   "execution_count": null,
   "metadata": {},
   "outputs": [],
   "source": []
  },
  {
   "cell_type": "code",
   "execution_count": null,
   "metadata": {},
   "outputs": [],
   "source": []
  },
  {
   "cell_type": "code",
   "execution_count": null,
   "metadata": {},
   "outputs": [],
   "source": []
  },
  {
   "cell_type": "code",
   "execution_count": null,
   "metadata": {},
   "outputs": [],
   "source": []
  },
  {
   "cell_type": "code",
   "execution_count": null,
   "metadata": {},
   "outputs": [],
   "source": []
  },
  {
   "cell_type": "code",
   "execution_count": null,
   "metadata": {},
   "outputs": [],
   "source": []
  },
  {
   "cell_type": "code",
   "execution_count": null,
   "metadata": {},
   "outputs": [],
   "source": []
  },
  {
   "cell_type": "code",
   "execution_count": null,
   "metadata": {},
   "outputs": [],
   "source": []
  },
  {
   "cell_type": "code",
   "execution_count": null,
   "metadata": {},
   "outputs": [],
   "source": []
  },
  {
   "cell_type": "code",
   "execution_count": null,
   "metadata": {},
   "outputs": [],
   "source": []
  },
  {
   "cell_type": "code",
   "execution_count": null,
   "metadata": {},
   "outputs": [],
   "source": []
  },
  {
   "cell_type": "code",
   "execution_count": null,
   "metadata": {},
   "outputs": [],
   "source": []
  },
  {
   "cell_type": "code",
   "execution_count": null,
   "metadata": {},
   "outputs": [],
   "source": []
  },
  {
   "cell_type": "code",
   "execution_count": null,
   "metadata": {},
   "outputs": [],
   "source": []
  },
  {
   "cell_type": "code",
   "execution_count": null,
   "metadata": {},
   "outputs": [],
   "source": []
  },
  {
   "cell_type": "code",
   "execution_count": null,
   "metadata": {},
   "outputs": [],
   "source": []
  },
  {
   "cell_type": "code",
   "execution_count": null,
   "metadata": {},
   "outputs": [],
   "source": []
  },
  {
   "cell_type": "code",
   "execution_count": null,
   "metadata": {},
   "outputs": [],
   "source": []
  },
  {
   "cell_type": "code",
   "execution_count": null,
   "metadata": {},
   "outputs": [],
   "source": []
  },
  {
   "cell_type": "code",
   "execution_count": null,
   "metadata": {},
   "outputs": [],
   "source": []
  },
  {
   "cell_type": "code",
   "execution_count": null,
   "metadata": {},
   "outputs": [],
   "source": []
  },
  {
   "cell_type": "code",
   "execution_count": null,
   "metadata": {},
   "outputs": [],
   "source": []
  },
  {
   "cell_type": "code",
   "execution_count": null,
   "metadata": {},
   "outputs": [],
   "source": []
  },
  {
   "cell_type": "code",
   "execution_count": null,
   "metadata": {},
   "outputs": [],
   "source": []
  },
  {
   "cell_type": "code",
   "execution_count": null,
   "metadata": {},
   "outputs": [],
   "source": []
  },
  {
   "cell_type": "code",
   "execution_count": null,
   "metadata": {},
   "outputs": [],
   "source": []
  },
  {
   "cell_type": "code",
   "execution_count": null,
   "metadata": {},
   "outputs": [],
   "source": []
  },
  {
   "cell_type": "code",
   "execution_count": null,
   "metadata": {},
   "outputs": [],
   "source": []
  },
  {
   "cell_type": "code",
   "execution_count": null,
   "id": "2d8e2589",
   "metadata": {},
   "outputs": [],
   "source": []
  },
  {
   "cell_type": "code",
   "execution_count": null,
   "id": "79b6929a",
   "metadata": {},
   "outputs": [],
   "source": []
  },
  {
   "cell_type": "code",
   "execution_count": null,
   "id": "377bf801",
   "metadata": {},
   "outputs": [],
   "source": []
  }
 ],
 "metadata": {
  "kernelspec": {
   "display_name": "Python 3",
   "language": "python",
   "name": "python3"
  },
  "language_info": {
   "codemirror_mode": {
    "name": "ipython",
    "version": 3
   },
   "file_extension": ".py",
   "mimetype": "text/x-python",
   "name": "python",
   "nbconvert_exporter": "python",
   "pygments_lexer": "ipython3",
   "version": "3.11.0"
  }
 },
 "nbformat": 4,
 "nbformat_minor": 5
}
